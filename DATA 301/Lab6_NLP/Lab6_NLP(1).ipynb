{
 "cells": [
  {
   "cell_type": "code",
   "execution_count": 1,
   "metadata": {},
   "outputs": [
    {
     "name": "stdout",
     "output_type": "stream",
     "text": [
      "[nltk_data] Downloading package stopwords to /home/jovyan/nltk_data...\n",
      "[nltk_data]   Package stopwords is already up-to-date!\n"
     ]
    }
   ],
   "source": [
    "import numpy as np\n",
    "import matplotlib.pyplot as plt\n",
    "import pandas as pd\n",
    "\n",
    "import zipimport\n",
    "importer = zipimport.zipimporter(\"nltk.zip\")\n",
    "importer.load_module(\"nltk\")\n",
    "\n",
    "import re\n",
    "from nltk.corpus import stopwords\n",
    "from nltk.stem.porter import PorterStemmer\n",
    "from nltk import download\n",
    "\n",
    "download(\"stopwords\") #downloading predmade library of stopwords\n",
    "\n",
    "from sklearn.feature_extraction.text import CountVectorizer\n"
   ]
  },
  {
   "cell_type": "code",
   "execution_count": 2,
   "metadata": {},
   "outputs": [
    {
     "name": "stdout",
     "output_type": "stream",
     "text": [
      "(1000, 2)\n"
     ]
    }
   ],
   "source": [
    "wine_data = pd.read_csv(\"./winemagdata130kv2.csv\", quoting=2)\n",
    "wine_data = wine_data [[\"description\", \"points\"]]\n",
    "wine_data = wine_data.sample(1000, random_state = 1693).reset_index(drop=True)\n",
    "print(wine_data.shape)"
   ]
  },
  {
   "cell_type": "code",
   "execution_count": 3,
   "metadata": {},
   "outputs": [
    {
     "data": {
      "text/plain": [
       "'atauta singlevineyard wine sensat 2011 vintag la mala arguabl overtli oaki modern style graini resini barreldriven aroma come control burn heat tannic firm cement ampl oak resin creat creami feel resini fulli spice blackfruit flavor end pepper wood grain burnt toast oaki note drink 20182031'"
      ]
     },
     "execution_count": 3,
     "metadata": {},
     "output_type": "execute_result"
    }
   ],
   "source": [
    "wine_descriptions = re.sub('[^a-zA-Z0-9 ]','', wine_data[\"description\"][0]) #space between 9 and  \"]\"\n",
    "#go through text, and if it is anything from lowercase a- z\n",
    "#or uppercase A-Z, or 0-9 don't replace. Anything else, sub with the close space\n",
    "\n",
    "wine_descriptions\n",
    "wine_descriptions = wine_descriptions.lower()\n",
    "\n",
    "#stop word = word we want to strip from text cos it doesn't mean much for us\n",
    "wine_descriptions = wine_descriptions.split()\n",
    "stopwords.words(\"english\")\n",
    "\n",
    "wine_descriptions = [word for word in wine_descriptions if not word in set(stopwords.words(\"english\"))]\n",
    "\n",
    "#taking the stem of each word\n",
    "stemmer = PorterStemmer()\n",
    "wine_descriptions = [stemmer.stem(word) for word in wine_descriptions]\n",
    "wine_descriptions\n",
    "\n",
    "wine_descriptions = \" \".join(wine_descriptions)\n",
    "wine_descriptions"
   ]
  },
  {
   "cell_type": "code",
   "execution_count": 4,
   "metadata": {},
   "outputs": [
    {
     "name": "stdout",
     "output_type": "stream",
     "text": [
      "CPU times: user 6.49 s, sys: 372 ms, total: 6.86 s\n",
      "Wall time: 6.87 s\n"
     ]
    }
   ],
   "source": [
    "%%time\n",
    "wine_data = pd.read_csv(\"./winemagdata130kv2.csv\", quoting=2)\n",
    "wine_data = wine_data [[\"description\", \"points\"]]\n",
    "wine_data = wine_data.sample(1000, random_state = 1693).reset_index(drop=True)\n",
    "corpus = []\n",
    "\n",
    "for i in range(len(wine_data)):\n",
    "    wine_descriptions = re.sub('[^a-zA-Z0-9 ]','', wine_data[\"description\"][i])\n",
    "    wine_descriptions = wine_descriptions.lower()\n",
    "    wine_descriptions = wine_descriptions.split()\n",
    "    wine_descriptions = [word for word in wine_descriptions if not word in set(stopwords.words(\"english\"))]\n",
    "    stemmer = PorterStemmer()\n",
    "    wine_descriptions = [stemmer.stem(word) for word in wine_descriptions]\n",
    "    wine_descriptions = \" \".join(wine_descriptions)\n",
    "    corpus.append(wine_descriptions)\n",
    "    \n",
    "countVec = CountVectorizer()\n",
    "X_raw = countVec.fit_transform(corpus)\n",
    "X = X_raw.toarray()\n",
    "\n",
    "y = wine_data[\"points\"]\n",
    "y = y.where(y>90, other = 0).where(y <= 90, other = 1).values #where helps us write conditional statement in panda\n",
    "\n",
    "from sklearn.model_selection import train_test_split\n",
    "X_train, X_test, y_train, y_test = train_test_split(X, y,test_size = 0.25, random_state = 1693)\n",
    "#from sklearn.tree import DecisionTreeClassifier\n",
    "from sklearn.linear_model import LogisticRegression\n",
    "#from sklearn.naive_bayes import GaussianNB\n",
    "#classifier = GaussianNB()\n",
    "classifier = LogisticRegression(random_state = 1693)\n",
    "#classifier = DecisionTreeClassifier(random_state = 1693)\n",
    "classifier.fit(X_train, y_train)\n",
    "y_pred = classifier.predict(X_test)\n",
    "y_pred"
   ]
  },
  {
   "cell_type": "code",
   "execution_count": 5,
   "metadata": {},
   "outputs": [],
   "source": [
    "from sklearn.metrics import confusion_matrix\n",
    "confMat =confusion_matrix(y_test, y_pred)\n",
    "def print_cm(cm, labels, hide_zeroes=False, hide_diagonal=False, hide_threshold=None):\n",
    "    \"\"\"pretty print for confusion matrixes\"\"\"\n",
    "    columnwidth = max([len(x) for x in labels] + [5])  # 5 is value length\n",
    "    empty_cell = \" \" * columnwidth\n",
    "    # Print header\n",
    "    print(\"    \" + empty_cell, end=\" \")\n",
    "    for label in labels:\n",
    "        print(\"%{0}s\".format(columnwidth) % label, end=\" \")\n",
    "    print()\n",
    "    # Print rows\n",
    "    for i, label1 in enumerate(labels):\n",
    "        print(\"    %{0}s\".format(columnwidth) % label1, end=\" \")\n",
    "        for j in range(len(labels)):\n",
    "            cell = \"%{0}.1f\".format(columnwidth) % cm[i, j]\n",
    "            if hide_zeroes:\n",
    "                cell = cell if float(cm[i, j]) != 0 else empty_cell\n",
    "            if hide_diagonal:\n",
    "                cell = cell if i != j else empty_cell\n",
    "            if hide_threshold:\n",
    "                cell = cell if cm[i, j] > hide_threshold else empty_cell\n",
    "            print(cell, end=\" \")\n",
    "        print()"
   ]
  },
  {
   "cell_type": "code",
   "execution_count": 6,
   "metadata": {},
   "outputs": [
    {
     "name": "stdout",
     "output_type": "stream",
     "text": [
      "               Bad Wine Good Wine \n",
      "     Bad Wine     165.0      12.0 \n",
      "    Good Wine      41.0      32.0 \n"
     ]
    }
   ],
   "source": [
    "print_cm(confMat, [\"Bad Wine\", \"Good Wine\"])"
   ]
  },
  {
   "cell_type": "code",
   "execution_count": null,
   "metadata": {},
   "outputs": [],
   "source": []
  },
  {
   "cell_type": "code",
   "execution_count": 7,
   "metadata": {},
   "outputs": [
    {
     "name": "stdout",
     "output_type": "stream",
     "text": [
      "              0    1    2    3    4    5    6    7    8    9   ...   990  991  \\\n",
      "04              0    0    0    0    0    0    0    0    0    0 ...     0    0   \n",
      "06              0    0    0    0    0    0    0    0    0    0 ...     0    0   \n",
      "07              0    0    0    0    0    0    0    0    0    0 ...     0    0   \n",
      "08              0    0    0    0    0    0    0    0    0    0 ...     0    0   \n",
      "10              0    0    0    0    0    0    0    0    0    0 ...     0    0   \n",
      "100             0    0    0    0    0    0    0    0    0    0 ...     0    0   \n",
      "1015            0    0    0    0    0    0    0    0    0    0 ...     0    0   \n",
      "11              0    0    0    0    0    0    0    0    0    0 ...     0    0   \n",
      "12              0    0    0    0    0    0    0    0    0    1 ...     0    0   \n",
      "1200feet        0    0    0    0    0    0    0    0    0    0 ...     0    0   \n",
      "12th            0    0    0    0    0    0    0    0    0    0 ...     0    0   \n",
      "12thcenturi     0    0    0    0    0    0    0    0    0    0 ...     0    0   \n",
      "13              0    0    0    0    0    0    0    0    0    0 ...     0    0   \n",
      "140             0    0    0    0    0    0    0    0    0    0 ...     0    0   \n",
      "15              0    0    0    0    0    0    0    0    0    0 ...     0    0   \n",
      "150             0    0    0    0    0    0    0    0    0    0 ...     0    0   \n",
      "16              0    0    0    0    0    0    0    0    0    0 ...     0    0   \n",
      "165             0    0    0    0    0    0    0    0    0    0 ...     0    0   \n",
      "1667            0    0    0    0    0    0    0    0    0    0 ...     0    0   \n",
      "1674            0    0    0    0    0    0    0    0    0    0 ...     0    0   \n",
      "16gl            0    0    0    0    0    0    0    0    0    0 ...     0    0   \n",
      "17              0    0    0    0    0    0    0    0    0    0 ...     0    0   \n",
      "18              0    0    0    0    0    0    0    0    0    0 ...     0    0   \n",
      "1965            0    0    0    0    0    0    0    0    0    0 ...     0    0   \n",
      "1975            0    0    0    0    0    0    0    0    0    0 ...     0    0   \n",
      "1991            0    0    0    0    0    0    0    0    0    0 ...     0    0   \n",
      "19thcenturi     0    0    0    0    0    0    0    0    0    0 ...     0    0   \n",
      "20              0    0    0    0    0    0    0    0    0    0 ...     0    0   \n",
      "2000            0    0    0    0    0    0    0    0    0    0 ...     0    0   \n",
      "20000           0    0    0    0    0    0    0    0    0    0 ...     0    0   \n",
      "...           ...  ...  ...  ...  ...  ...  ...  ...  ...  ... ...   ...  ...   \n",
      "year            0    0    0    0    0    0    0    0    0    0 ...     0    0   \n",
      "yeast           0    0    0    0    0    0    0    0    0    0 ...     0    0   \n",
      "yeasti          0    0    0    0    0    0    0    0    0    0 ...     0    0   \n",
      "yellow          0    0    0    0    0    0    0    0    0    0 ...     0    0   \n",
      "yellowcherri    0    0    0    0    0    0    0    0    0    0 ...     0    0   \n",
      "yet             0    0    0    0    0    0    0    0    0    0 ...     0    0   \n",
      "yield           0    0    0    0    0    0    0    0    0    0 ...     0    0   \n",
      "yorkvil         0    0    0    0    0    0    0    0    0    0 ...     0    0   \n",
      "youd            0    0    0    0    0    0    0    0    0    0 ...     0    0   \n",
      "youll           0    0    0    0    0    0    0    0    0    0 ...     0    0   \n",
      "young           0    0    0    0    1    0    0    0    0    1 ...     0    0   \n",
      "youngtast       0    0    0    0    0    0    0    0    0    0 ...     0    0   \n",
      "your            0    0    0    0    0    0    0    0    0    0 ...     0    0   \n",
      "youth           0    0    0    0    0    0    0    0    0    0 ...     0    0   \n",
      "yumfest         0    0    0    0    0    0    0    0    0    0 ...     0    0   \n",
      "yummi           0    0    0    0    0    0    0    0    0    0 ...     0    0   \n",
      "yuzu            0    0    0    0    0    0    0    0    0    0 ...     0    0   \n",
      "zach            0    0    0    0    0    0    0    0    0    0 ...     0    0   \n",
      "zealand         0    0    0    0    0    0    0    0    0    0 ...     0    0   \n",
      "zero            0    0    0    0    0    0    0    0    0    0 ...     0    0   \n",
      "zest            0    0    0    0    0    0    0    0    0    0 ...     0    0   \n",
      "zesti           0    0    0    0    0    0    0    0    0    0 ...     0    0   \n",
      "zestier         0    0    0    0    0    0    0    0    0    0 ...     0    0   \n",
      "zin             0    0    0    0    0    0    0    0    0    0 ...     0    0   \n",
      "zinfandel       0    0    0    0    0    0    0    0    0    0 ...     0    0   \n",
      "zinwannab       0    0    0    0    0    0    0    0    0    0 ...     0    0   \n",
      "zippi           0    0    0    0    0    0    0    0    0    0 ...     0    0   \n",
      "zone            0    0    0    0    0    0    0    0    0    0 ...     0    0   \n",
      "zull            0    0    0    0    0    0    0    0    0    0 ...     0    0   \n",
      "zweigelt        0    0    0    0    0    0    0    0    0    0 ...     0    0   \n",
      "\n",
      "              992  993  994  995  996  997  998  999  \n",
      "04              0    0    0    0    0    0    0    0  \n",
      "06              0    0    0    0    0    0    0    0  \n",
      "07              0    0    0    0    0    0    0    0  \n",
      "08              0    0    0    0    0    0    0    0  \n",
      "10              0    0    0    0    0    0    0    0  \n",
      "100             0    0    0    0    0    0    0    0  \n",
      "1015            0    0    0    0    0    0    0    0  \n",
      "11              0    0    0    0    0    0    0    0  \n",
      "12              0    0    0    0    0    0    0    0  \n",
      "1200feet        0    0    0    0    0    0    0    0  \n",
      "12th            0    0    0    0    0    0    0    0  \n",
      "12thcenturi     0    0    0    0    0    0    0    0  \n",
      "13              0    0    0    0    0    0    0    0  \n",
      "140             0    0    0    0    0    0    0    0  \n",
      "15              0    0    0    0    0    0    0    0  \n",
      "150             0    0    0    0    0    0    0    0  \n",
      "16              0    0    0    0    0    0    0    0  \n",
      "165             0    0    0    0    0    0    0    0  \n",
      "1667            0    0    0    0    0    0    0    0  \n",
      "1674            0    0    0    0    0    0    0    0  \n",
      "16gl            0    0    0    0    0    0    0    0  \n",
      "17              0    0    0    0    0    0    0    0  \n",
      "18              0    0    0    0    0    0    0    0  \n",
      "1965            0    0    0    0    0    0    0    0  \n",
      "1975            0    0    0    0    0    0    0    0  \n",
      "1991            0    0    0    0    0    0    0    0  \n",
      "19thcenturi     0    0    0    0    0    0    0    0  \n",
      "20              0    0    0    0    0    0    0    0  \n",
      "2000            0    0    0    0    0    0    0    0  \n",
      "20000           0    0    0    0    0    0    0    0  \n",
      "...           ...  ...  ...  ...  ...  ...  ...  ...  \n",
      "year            0    0    2    0    0    0    0    0  \n",
      "yeast           0    0    0    0    0    0    0    0  \n",
      "yeasti          0    0    0    0    0    0    0    0  \n",
      "yellow          0    0    0    0    0    0    0    0  \n",
      "yellowcherri    0    0    0    0    0    0    0    0  \n",
      "yet             0    0    0    0    0    0    0    0  \n",
      "yield           0    0    0    0    0    0    0    0  \n",
      "yorkvil         0    0    0    0    0    0    0    0  \n",
      "youd            0    0    0    0    0    0    0    0  \n",
      "youll           0    0    0    0    0    0    0    0  \n",
      "young           0    1    0    0    0    0    0    0  \n",
      "youngtast       0    0    0    0    0    0    0    0  \n",
      "your            0    0    0    0    0    0    0    0  \n",
      "youth           0    0    0    0    0    0    0    0  \n",
      "yumfest         0    0    0    0    0    0    0    0  \n",
      "yummi           0    0    0    0    0    0    0    0  \n",
      "yuzu            0    0    0    0    0    0    0    0  \n",
      "zach            0    0    0    0    0    0    0    0  \n",
      "zealand         0    0    0    0    0    0    0    0  \n",
      "zero            0    0    0    0    0    0    0    0  \n",
      "zest            0    0    0    0    0    0    0    0  \n",
      "zesti           0    0    0    0    0    0    0    0  \n",
      "zestier         0    0    0    0    0    0    0    0  \n",
      "zin             0    0    0    0    0    0    0    0  \n",
      "zinfandel       0    0    0    0    0    0    0    0  \n",
      "zinwannab       0    0    0    0    0    0    0    0  \n",
      "zippi           0    0    0    0    0    0    0    0  \n",
      "zone            0    0    0    0    0    0    0    0  \n",
      "zull            0    0    0    0    0    0    0    0  \n",
      "zweigelt        0    0    0    0    0    0    0    0  \n",
      "\n",
      "[3460 rows x 1000 columns]\n"
     ]
    }
   ],
   "source": [
    "X\n",
    "print(pd.DataFrame(X_raw.A, columns=countVec.get_feature_names()).transpose()) #making it look pretty or more readable"
   ]
  },
  {
   "cell_type": "code",
   "execution_count": 8,
   "metadata": {},
   "outputs": [
    {
     "name": "stderr",
     "output_type": "stream",
     "text": [
      "/opt/conda/lib/python3.6/site-packages/matplotlib/axes/_axes.py:6571: UserWarning: The 'normed' kwarg is deprecated, and has been replaced by the 'density' kwarg.\n",
      "  warnings.warn(\"The 'normed' kwarg is deprecated, and has been \"\n"
     ]
    },
    {
     "data": {
      "image/png": "[encoded data removed]",
      "text/plain": [
       "<Figure size 432x288 with 1 Axes>"
      ]
     },
     "metadata": {},
     "output_type": "display_data"
    }
   ],
   "source": [
    "n, bins, patches = plt.hist(wine_data[\"points\"].values, 10, normed=1, facecolor=\"green\", alpha = 0.7)\n",
    "plt.show()"
   ]
  },
  {
   "cell_type": "code",
   "execution_count": null,
   "metadata": {},
   "outputs": [],
   "source": []
  }
 ],
 "metadata": {
  "kernelspec": {
   "display_name": "Python 3",
   "language": "python",
   "name": "python3"
  },
  "language_info": {
   "codemirror_mode": {
    "name": "ipython",
    "version": 3
   },
   "file_extension": ".py",
   "mimetype": "text/x-python",
   "name": "python",
   "nbconvert_exporter": "python",
   "pygments_lexer": "ipython3",
   "version": "3.6.3"
  }
 },
 "nbformat": 4,
 "nbformat_minor": 2
}
