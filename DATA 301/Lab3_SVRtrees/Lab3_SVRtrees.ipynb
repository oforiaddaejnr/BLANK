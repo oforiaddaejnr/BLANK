{
 "cells": [
  {
   "cell_type": "code",
   "execution_count": 1,
   "metadata": {},
   "outputs": [],
   "source": [
    "import pandas as pd\n",
    "import numpy as np\n",
    "import matplotlib.pyplot as plt\n",
    "\n",
    "students_math = pd.read_csv(\"./studentmat.csv\")\n",
    "students_port = pd.read_csv(\"./studentpor.csv\")"
   ]
  },
  {
   "cell_type": "code",
   "execution_count": 2,
   "metadata": {},
   "outputs": [
    {
     "data": {
      "text/plain": [
       "(649, 33)"
      ]
     },
     "execution_count": 2,
     "metadata": {},
     "output_type": "execute_result"
    }
   ],
   "source": [
    "students_port.shape"
   ]
  },
  {
   "cell_type": "code",
   "execution_count": 3,
   "metadata": {},
   "outputs": [],
   "source": [
    "all_student_rows = [students_math, students_port]"
   ]
  },
  {
   "cell_type": "code",
   "execution_count": 4,
   "metadata": {},
   "outputs": [],
   "source": [
    "all_students = pd.concat(all_student_rows, ignore_index=True)"
   ]
  },
  {
   "cell_type": "code",
   "execution_count": 5,
   "metadata": {},
   "outputs": [
    {
     "data": {
      "text/plain": [
       "(1044, 33)"
      ]
     },
     "execution_count": 5,
     "metadata": {},
     "output_type": "execute_result"
    }
   ],
   "source": [
    "all_students.shape"
   ]
  },
  {
   "cell_type": "code",
   "execution_count": 6,
   "metadata": {},
   "outputs": [],
   "source": [
    "all_students\n",
    "X = all_students[[\"age\", \"address\", \"traveltime\", \"failures\" , \"higher\",\n",
    "                \"internet\", \"romantic\", \"famrel\", \"freetime\", \"goout\", \"absences\"]].values\n",
    "\n",
    "from sklearn.preprocessing import LabelEncoder\n",
    "discreteCoder_X = LabelEncoder()"
   ]
  },
  {
   "cell_type": "code",
   "execution_count": 7,
   "metadata": {},
   "outputs": [],
   "source": [
    "X[:,1] = discreteCoder_X.fit_transform(X[:,1])\n",
    "X[:,4] = discreteCoder_X.fit_transform(X[:,4])\n",
    "X[:,5] = discreteCoder_X.fit_transform(X[:,5])\n",
    "X[:,6] = discreteCoder_X.fit_transform(X[:,6])"
   ]
  },
  {
   "cell_type": "code",
   "execution_count": 8,
   "metadata": {},
   "outputs": [],
   "source": [
    "from sklearn.model_selection import train_test_split\n",
    "from sklearn.preprocessing import StandardScaler\n",
    "\n",
    "y = all_students[[\"Walc\"]].values"
   ]
  },
  {
   "cell_type": "code",
   "execution_count": 9,
   "metadata": {},
   "outputs": [],
   "source": [
    "X_train, X_test, y_train, y_test = train_test_split(X,y, test_size=0.25, random_state=1693)"
   ]
  },
  {
   "cell_type": "code",
   "execution_count": 10,
   "metadata": {},
   "outputs": [
    {
     "name": "stderr",
     "output_type": "stream",
     "text": [
      "/opt/conda/lib/python3.6/site-packages/sklearn/utils/validation.py:475: DataConversionWarning: Data with input dtype object was converted to float64 by StandardScaler.\n",
      "  warnings.warn(msg, DataConversionWarning)\n"
     ]
    }
   ],
   "source": [
    "scale_X = StandardScaler()\n",
    "X_train = scale_X.fit_transform(X_train)\n",
    "X_test = scale_X.transform(X_test)"
   ]
  },
  {
   "cell_type": "code",
   "execution_count": 11,
   "metadata": {},
   "outputs": [],
   "source": [
    "from sklearn.svm import SVR"
   ]
  },
  {
   "cell_type": "code",
   "execution_count": 12,
   "metadata": {},
   "outputs": [
    {
     "name": "stderr",
     "output_type": "stream",
     "text": [
      "/opt/conda/lib/python3.6/site-packages/sklearn/utils/validation.py:578: DataConversionWarning: A column-vector y was passed when a 1d array was expected. Please change the shape of y to (n_samples, ), for example using ravel().\n",
      "  y = column_or_1d(y, warn=True)\n"
     ]
    },
    {
     "data": {
      "text/plain": [
       "SVR(C=1.0, cache_size=200, coef0=0.0, degree=3, epsilon=1.0, gamma='auto',\n",
       "  kernel='linear', max_iter=-1, shrinking=True, tol=0.001, verbose=False)"
      ]
     },
     "execution_count": 12,
     "metadata": {},
     "output_type": "execute_result"
    }
   ],
   "source": [
    "svr_regression = SVR(kernel = \"linear\", epsilon = 1.0)\n",
    "svr_regression.fit(X_train, y_train)"
   ]
  },
  {
   "cell_type": "code",
   "execution_count": 13,
   "metadata": {},
   "outputs": [],
   "source": [
    "#Student A\n",
    "#Age: 18\n",
    "#Address: Urban(Label encoded as 1)\n",
    "#Travel Time: 3 (30 minutes to 1 hour)\n",
    "#Failures: 3\n",
    "#Desires for Higher Education: No  (0)\n",
    "#Internet Access: No (0)\n",
    "#Romantic Relationship: Yes (1)\n",
    "#Relationship w/ fam: Ok (2 out of 5)\n",
    "#Freetime: A lot (5 out of 5)\n",
    "#Going Out: A bit (2 out of 5)\n",
    "#Absences: 5\n",
    "\n",
    "new_studentA = [[18,1,3,3,0,0,1,2,5,2,5]]"
   ]
  },
  {
   "cell_type": "code",
   "execution_count": 14,
   "metadata": {},
   "outputs": [],
   "source": [
    "new_student_scaledA = scale_X.transform(new_studentA)\n",
    "studentA_prediction = svr_regression.predict(new_student_scaledA)"
   ]
  },
  {
   "cell_type": "code",
   "execution_count": 15,
   "metadata": {},
   "outputs": [
    {
     "data": {
      "text/plain": [
       "array([ 2.76152033])"
      ]
     },
     "execution_count": 15,
     "metadata": {},
     "output_type": "execute_result"
    }
   ],
   "source": [
    "studentA_prediction"
   ]
  },
  {
   "cell_type": "code",
   "execution_count": 16,
   "metadata": {},
   "outputs": [
    {
     "name": "stdout",
     "output_type": "stream",
     "text": [
      "First new student (A):[ 2.76152033]\n"
     ]
    }
   ],
   "source": [
    "print(\"First new student (A):\" +str(studentA_prediction))"
   ]
  },
  {
   "cell_type": "code",
   "execution_count": 17,
   "metadata": {},
   "outputs": [
    {
     "name": "stdout",
     "output_type": "stream",
     "text": [
      "Second new student:[ 2.31851134]\n"
     ]
    }
   ],
   "source": [
    "#Student B\n",
    "#Age: 18\n",
    "#Address: Rural(Label encoded as 0)\n",
    "#Travel Time: 3 (30 minutes to 1 hour)\n",
    "#Failures: 3\n",
    "#Desires for Higher Education: No  (0)\n",
    "#Internet Access: No (0)\n",
    "#Romantic Relationship: Yes (1)\n",
    "#Relationship w/ fam: Ok (2 out of 5)\n",
    "#Freetime: Very little (1 out of 5)\n",
    "#Going Out: Very little (1 out of 5)\n",
    "#Absences: 5\n",
    "\n",
    "new_studentB = [[18,0,3,3,0,0,1,2,1,1,5]]\n",
    "new_student_scaledB = scale_X.transform(new_studentB)\n",
    "studentB_prediction = svr_regression.predict(new_student_scaledB)\n",
    "print(\"Second new student:\"+ str(studentB_prediction))"
   ]
  },
  {
   "cell_type": "code",
   "execution_count": 18,
   "metadata": {},
   "outputs": [],
   "source": [
    "from sklearn import tree"
   ]
  },
  {
   "cell_type": "code",
   "execution_count": 19,
   "metadata": {},
   "outputs": [
    {
     "data": {
      "text/plain": [
       "DecisionTreeRegressor(criterion='mse', max_depth=3, max_features=None,\n",
       "           max_leaf_nodes=None, min_impurity_decrease=0.0,\n",
       "           min_impurity_split=None, min_samples_leaf=1,\n",
       "           min_samples_split=2, min_weight_fraction_leaf=0.0,\n",
       "           presort=False, random_state=1693, splitter='best')"
      ]
     },
     "execution_count": 19,
     "metadata": {},
     "output_type": "execute_result"
    }
   ],
   "source": [
    "DT_regression = tree.DecisionTreeRegressor(random_state=1693, max_depth = 3)\n",
    "DT_regression.fit(X_train, y_train)"
   ]
  },
  {
   "cell_type": "code",
   "execution_count": 20,
   "metadata": {},
   "outputs": [],
   "source": [
    "tree.export_graphviz(DT_regression, out_file = \"tree.dot\", feature_names = [\"age\", \"address\",\n",
    "                                                     \"traveltime\", \"failures\" , \"higher\",\n",
    "                \"internet\", \"romantic\", \"famrel\", \"freetime\", \"goout\", \"absences\"])"
   ]
  },
  {
   "cell_type": "code",
   "execution_count": 21,
   "metadata": {},
   "outputs": [
    {
     "name": "stdout",
     "output_type": "stream",
     "text": [
      "Second new student:[ 1.68644068]\n"
     ]
    }
   ],
   "source": [
    "studentA_prediction_RT =DT_regression.predict(new_student_scaledA)\n",
    "print(\"Second new student:\" + str(studentA_prediction_RT))"
   ]
  },
  {
   "cell_type": "code",
   "execution_count": 22,
   "metadata": {},
   "outputs": [
    {
     "name": "stdout",
     "output_type": "stream",
     "text": [
      "Second new student:[ 1.68644068]\n"
     ]
    }
   ],
   "source": [
    "studentB_prediction_RT =DT_regression.predict(new_student_scaledB)\n",
    "print(\"Second new student:\" + str(studentB_prediction_RT))"
   ]
  },
  {
   "cell_type": "code",
   "execution_count": 23,
   "metadata": {},
   "outputs": [
    {
     "name": "stderr",
     "output_type": "stream",
     "text": [
      "/opt/conda/lib/python3.6/site-packages/ipykernel_launcher.py:3: DataConversionWarning: A column-vector y was passed when a 1d array was expected. Please change the shape of y to (n_samples,), for example using ravel().\n",
      "  This is separate from the ipykernel package so we can avoid doing imports until\n"
     ]
    },
    {
     "data": {
      "text/plain": [
       "RandomForestRegressor(bootstrap=True, criterion='mse', max_depth=None,\n",
       "           max_features='auto', max_leaf_nodes=None,\n",
       "           min_impurity_decrease=0.0, min_impurity_split=None,\n",
       "           min_samples_leaf=1, min_samples_split=2,\n",
       "           min_weight_fraction_leaf=0.0, n_estimators=100, n_jobs=1,\n",
       "           oob_score=False, random_state=1693, verbose=0, warm_start=False)"
      ]
     },
     "execution_count": 23,
     "metadata": {},
     "output_type": "execute_result"
    }
   ],
   "source": [
    "from sklearn.ensemble import RandomForestRegressor\n",
    "RF_regression = RandomForestRegressor(n_estimators = 100, random_state=1693)\n",
    "RF_regression.fit(X_train, y_train)"
   ]
  },
  {
   "cell_type": "code",
   "execution_count": 24,
   "metadata": {},
   "outputs": [
    {
     "name": "stdout",
     "output_type": "stream",
     "text": [
      "First new student:[ 1.89]\n"
     ]
    }
   ],
   "source": [
    "studentA_prediction_RF = RF_regression.predict(new_student_scaledA)\n",
    "print(\"First new student:\" + str(studentA_prediction_RF))"
   ]
  },
  {
   "cell_type": "code",
   "execution_count": 25,
   "metadata": {},
   "outputs": [
    {
     "name": "stdout",
     "output_type": "stream",
     "text": [
      "First new student:[ 1.45]\n"
     ]
    }
   ],
   "source": [
    "studentB_prediction_RF = RF_regression.predict(new_student_scaledB)\n",
    "print(\"First new student:\" + str(studentB_prediction_RF))"
   ]
  },
  {
   "cell_type": "code",
   "execution_count": 26,
   "metadata": {},
   "outputs": [],
   "source": [
    "from sklearn.metrics import mean_absolute_error\n",
    "rf_MAE = mean_absolute_error(y_test, RF_regression.predict(X_test))"
   ]
  },
  {
   "cell_type": "code",
   "execution_count": 27,
   "metadata": {},
   "outputs": [
    {
     "data": {
      "text/plain": [
       "0.85699797786292031"
      ]
     },
     "execution_count": 27,
     "metadata": {},
     "output_type": "execute_result"
    }
   ],
   "source": [
    "rf_MAE"
   ]
  },
  {
   "cell_type": "code",
   "execution_count": 28,
   "metadata": {},
   "outputs": [],
   "source": [
    "RT_MAE = mean_absolute_error(y_test, DT_regression.predict(X_test))\n",
    "SVR_MAE = mean_absolute_error(y_test, svr_regression.predict(X_test))"
   ]
  },
  {
   "cell_type": "code",
   "execution_count": 29,
   "metadata": {},
   "outputs": [
    {
     "name": "stdout",
     "output_type": "stream",
     "text": [
      "Random Forest MAE: 0.856997977863\n",
      "Regression Tree MAE: 0.963757325443\n",
      "Support Vector Regression: 0.961421679225\n"
     ]
    }
   ],
   "source": [
    "print(\"Random Forest MAE: \"+ str(rf_MAE))\n",
    "print(\"Regression Tree MAE: \"+ str(RT_MAE))\n",
    "print(\"Support Vector Regression: \"+ str(SVR_MAE))"
   ]
  },
  {
   "cell_type": "code",
   "execution_count": 33,
   "metadata": {},
   "outputs": [
    {
     "name": "stderr",
     "output_type": "stream",
     "text": [
      "/opt/conda/lib/python3.6/site-packages/ipykernel_launcher.py:18: DataConversionWarning: A column-vector y was passed when a 1d array was expected. Please change the shape of y to (n_samples,), for example using ravel().\n"
     ]
    },
    {
     "name": "stdout",
     "output_type": "stream",
     "text": [
      "LabQue:[ 1.77]\n"
     ]
    }
   ],
   "source": [
    "#Age: 20\n",
    "#Address: Urban (label encoded as 1)\n",
    "#Travel Time: 3 (30 minutes to 1 hour)\n",
    "#Failures: 1\n",
    "#Desire for Higher Education: No (0)\n",
    "#Internet Access: Yes (1)\n",
    "#Romantic Relationship: Yes (1)\n",
    "#Relationship with Family: Ok (2 out of 5)\n",
    "#Freetime: A little (3 out of 5)\n",
    "#Going Out: A bit (2 out of 5)\n",
    "#Absences: 5\n",
    "\n",
    "labQue = [[20,1,3,1,0,1,1,2,3,2,5]]\n",
    "from sklearn.ensemble import RandomForestRegressor\n",
    "new_student_scaledC = scale_X.transform(labQue)\n",
    "studentC_prediction = svr_regression.predict(new_student_scaledC)\n",
    "lab_RF_regression = RandomForestRegressor(n_estimators = 100, random_state=1693)\n",
    "lab_RF_regression.fit(X_train, y_train)\n",
    "studentC_prediction_RF = RF_regression.predict(new_student_scaledC)\n",
    "print(\"LabQue:\" + str(studentC_prediction_RF))"
   ]
  },
  {
   "cell_type": "code",
   "execution_count": 34,
   "metadata": {},
   "outputs": [
    {
     "name": "stdout",
     "output_type": "stream",
     "text": [
      "LabQue2:[ 2.50416303]\n"
     ]
    }
   ],
   "source": [
    "#Age: 20\n",
    "#Address: Urban (label encoded as 1)\n",
    "#Travel Time: 3 (30 minutes to 1 hour)\n",
    "#Failures: 1\n",
    "#Desire for Higher Education: No (0)\n",
    "#Internet Access: Yes (1)\n",
    "#Romantic Relationship: Yes (1)\n",
    "#Relationship with Family: Ok (2 out of 5)\n",
    "#Freetime: A little (3 out of 5)\n",
    "#Going Out: A bit (2 out of 5)\n",
    "#Absences: 5\n",
    "\n",
    "labQue2 = [[20,1,3,1,0,1,1,2,3,2,5]]\n",
    "new_student_scaledD = scale_X.transform(labQue2)\n",
    "studentD_prediction = svr_regression.predict(new_student_scaledD)\n",
    "print(\"LabQue2:\"+ str(studentD_prediction))\n"
   ]
  },
  {
   "cell_type": "code",
   "execution_count": null,
   "metadata": {},
   "outputs": [],
   "source": []
  }
 ],
 "metadata": {
  "kernelspec": {
   "display_name": "Python 3",
   "language": "python",
   "name": "python3"
  },
  "language_info": {
   "codemirror_mode": {
    "name": "ipython",
    "version": 3
   },
   "file_extension": ".py",
   "mimetype": "text/x-python",
   "name": "python",
   "nbconvert_exporter": "python",
   "pygments_lexer": "ipython3",
   "version": "3.6.3"
  }
 },
 "nbformat": 4,
 "nbformat_minor": 2
}
