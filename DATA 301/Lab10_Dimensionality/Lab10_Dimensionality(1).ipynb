{
 "cells": [
  {
   "cell_type": "code",
   "execution_count": 26,
   "metadata": {},
   "outputs": [],
   "source": [
    "import warnings\n",
    "warnings.filterwarnings(\"ignore\")\n",
    "\n",
    "import pandas as pd\n",
    "from sklearn.model_selection import train_test_split\n",
    "import matplotlib.pyplot as plt\n",
    "from sklearn.naive_bayes import GaussianNB\n",
    "from sklearn.decomposition import PCA\n",
    "from sklearn.metrics import confusion_matrix\n",
    "from sklearn.metrics import accuracy_score\n",
    "from sklearn.naive_bayes import GaussianNB\n",
    "from sklearn.metrics import confusion_matrix\n",
    "from sklearn.decomposition import KernelPCA\n",
    "import numpy as np\n",
    "\n",
    "def print_cm(cm, labels, hide_zeroes=False, hide_diagonal=False, hide_threshold=None):\n",
    "    \"\"\"pretty print for confusion matrixes\"\"\"\n",
    "    columnwidth = max([len(x) for x in labels] + [5])  # 5 is value length\n",
    "    empty_cell = \" \" * columnwidth\n",
    "    # Print header\n",
    "    print(\"    \" + empty_cell, end=\" \")\n",
    "    for label in labels:\n",
    "        print(\"%{0}s\".format(columnwidth) % label, end=\" \")\n",
    "    print()\n",
    "    # Print rows\n",
    "    for i, label1 in enumerate(labels):\n",
    "        print(\"    %{0}s\".format(columnwidth) % label1, end=\" \")\n",
    "        for j in range(len(labels)):\n",
    "            cell = \"%{0}.1f\".format(columnwidth) % cm[i, j]\n",
    "            if hide_zeroes:\n",
    "                cell = cell if float(cm[i, j]) != 0 else empty_cell\n",
    "            if hide_diagonal:\n",
    "                cell = cell if i != j else empty_cell\n",
    "            if hide_threshold:\n",
    "                cell = cell if cm[i, j] > hide_threshold else empty_cell\n",
    "            print(cell, end=\" \")\n",
    "        print()\n",
    "        \n",
    "def find_correlation(data, threshold=0.9, remove_negative=False):\n",
    "    \"\"\"\n",
    "    Given a numeric pd.DataFrame, this will find highly correlated features,\n",
    "    and return a list of features to remove.\n",
    "    Parameters\n",
    "    -----------\n",
    "    data : pandas DataFrame\n",
    "        DataFrame\n",
    "    threshold : float\n",
    "        correlation threshold, will remove one of pairs of features with a\n",
    "        correlation greater than this value.\n",
    "    remove_negative: Boolean\n",
    "        If true then features which are highly negatively correlated will\n",
    "        also be returned for removal.\n",
    "    Returns\n",
    "    --------\n",
    "    select_flat : list\n",
    "        listof column names to be removed\n",
    "    \"\"\"\n",
    "    corr_mat = data.corr()\n",
    "    if remove_negative:\n",
    "        corr_mat = np.abs(corr_mat)\n",
    "    corr_mat.loc[:, :] = np.tril(corr_mat, k=-1)\n",
    "    already_in = set()\n",
    "    result = []\n",
    "    for col in corr_mat:\n",
    "        perfect_corr = corr_mat[col][corr_mat[col] > threshold].index.tolist()\n",
    "        if perfect_corr and col not in already_in:\n",
    "            already_in.update(set(perfect_corr))\n",
    "            perfect_corr.append(col)\n",
    "            result.append(perfect_corr)\n",
    "    select_nested = [f[1:] for f in result]\n",
    "    select_flat = [i for j in select_nested for i in j]\n",
    "    return select_flat\n",
    "\n",
    "ks_data = pd.read_csv(\"ksprojects201801.csv\")\n",
    "X = ks_data.drop([\"ID\",\"name\", \"pledged\", \"backers\",\"usd pledged\", \"usd_pledged_real\", \"state\", \"category\"], axis = 1)\n",
    "y = ks_data[\"state\"]\n",
    "\n",
    "y[y!= \"successful\"] = \"Failed\"\n",
    "y = pd.get_dummies(y)\n",
    "y = y.drop(\"Failed\", axis = 1)\n",
    "\n",
    "start_date = pd.to_datetime(\"2000-1-1\")\n",
    "X[\"deadline\"] = (pd.to_datetime(X[\"deadline\"])- start_date).dt.days\n",
    "X[\"launched\"] = (pd.to_datetime(X[\"launched\"])- start_date).dt.days\n",
    "X[\"duration\"] = X[\"deadline\"] - X[\"launched\"]\n",
    "X = pd.get_dummies(X)\n",
    "\n",
    "#X = X.drop(find_correlation(X,threshold = 0.5, remove_negative = True), axis = 1)\n",
    "X_train, X_test, y_train, y_test = train_test_split(X,y, test_size=0.2, random_state=1693)\n",
    "\n",
    "# pca = PCA(n_components = 2)\n",
    "# X_train_pca = pca.fit_transform(X_train)\n",
    "# X_test_pca = pca.transform(X_test)\n",
    "\n",
    "# #PCA N_components = 2\n",
    "# print(\"\\nPCA with Two Components\")\n",
    "# bayes_classifier = GaussianNB()\n",
    "# bayes_classifier.fit(X_train_pca, y_train)\n",
    "# y_pred = bayes_classifier.predict(X_test_pca)\n",
    "# confMat = confusion_matrix(y_test,y_pred)\n",
    "# print_cm(confMat, [\"Successful\", \"Failed\"])\n",
    "# print(accuracy_score(y_test,y_pred))\n",
    "\n",
    "# #Normal, non-PCA model\n",
    "# print(\"\\nUsing All Data\")\n",
    "# bayes_classifier = GaussianNB()\n",
    "# bayes_classifier.fit(X_train, y_train)\n",
    "# y_pred = bayes_classifier.predict(X_test)\n",
    "# from sklearn.metrics import confusion_matrix\n",
    "# confMat = confusion_matrix(y_test,y_pred)\n",
    "# print_cm(confMat, [\"Successful\", \"Failed\"])\n",
    "# print(accuracy_score(y_test,y_pred))"
   ]
  },
  {
   "cell_type": "code",
   "execution_count": 13,
   "metadata": {},
   "outputs": [],
   "source": [
    "# ks_data = pd.read_csv(\"ksprojects201801.csv\")\n",
    "# ks_data = ks_data.sample(2500, random_state = 1693)\n",
    "\n",
    "# X = ks_data.drop([\"ID\",\"name\", \"pledged\", \"backers\",\"usd pledged\", \"usd_pledged_real\", \"state\", \"category\"], axis = 1)\n",
    "# y = ks_data[\"state\"]\n",
    "\n",
    "# y[y!= \"successful\"] = \"Failed\"\n",
    "# y = pd.get_dummies(y)\n",
    "# y = y.drop(\"Failed\", axis = 1)\n",
    "\n",
    "# start_date = pd.to_datetime(\"2000-1-1\")\n",
    "# X[\"deadline\"] = (pd.to_datetime(X[\"deadline\"])- start_date).dt.days\n",
    "# X[\"launched\"] = (pd.to_datetime(X[\"launched\"])- start_date).dt.days\n",
    "# X[\"duration\"] = X[\"deadline\"] - X[\"launched\"]\n",
    "# X = pd.get_dummies(X)\n",
    "\n",
    "# X_train, X_test, y_train, y_test = train_test_split(X,y, test_size=0.2, random_state=1693)\n",
    "\n",
    "# kernel_pca = KernelPCA(kernel = \"rbf\")\n",
    "# X_train_kPCA = kernel_pca.fit_transform(X_train)\n",
    "# X_test_kPCA = kernel_pca.transform(X_test)"
   ]
  },
  {
   "cell_type": "code",
   "execution_count": 14,
   "metadata": {},
   "outputs": [],
   "source": [
    "# explained_variance = np.var(X_train_kPCA, axis = 0)\n",
    "# kernelPCA_explained_variance_ratio = explained_variance / np.sum(explained_variance)\n",
    "# print(kernelPCA_explained_variance_ratio)"
   ]
  },
  {
   "cell_type": "code",
   "execution_count": 15,
   "metadata": {},
   "outputs": [],
   "source": [
    "# plt.plot(kernelPCA_explained_variance_ratio)\n",
    "# plt.ylabel(\"Kernel PCA Variance Explained\")\n",
    "# plt.show()"
   ]
  },
  {
   "cell_type": "code",
   "execution_count": 16,
   "metadata": {},
   "outputs": [],
   "source": [
    "# kernel_pca = KernelPCA(kernel=\"rbf\", n_components = 5)\n",
    "# X_train_kPCA = kernel_pca.fit_transform(X_train)\n",
    "# X_test_kPCA = kernel_pca.transform(X_test)"
   ]
  },
  {
   "cell_type": "code",
   "execution_count": 17,
   "metadata": {},
   "outputs": [],
   "source": [
    "# bayes_classifier = GaussianNB()\n",
    "# bayes_classifier.fit(X_train_kPCA, y_train)\n",
    "# y_pred_kPCA = bayes_classifier.predict(X_test_kPCA)\n",
    "# confMat = confusion_matrix(y_test,y_pred_kPCA)\n",
    "# print_cm(confMat, [\"Successful\", \"Failed\"])\n",
    "# print(accuracy_score(y_test,y_pred_kPCA))"
   ]
  },
  {
   "cell_type": "code",
   "execution_count": 29,
   "metadata": {},
   "outputs": [
    {
     "name": "stdout",
     "output_type": "stream",
     "text": [
      "['deadline', 'goal', 'currency_AUD', 'currency_CAD', 'currency_CHF', 'currency_DKK', 'currency_GBP', 'currency_HKD', 'currency_JPY', 'currency_MXN', 'currency_NOK', 'currency_NZD', 'currency_SEK', 'currency_SGD', 'currency_USD']\n"
     ]
    }
   ],
   "source": [
    "print(find_correlation(X,threshold = 0.7, remove_negative = True))"
   ]
  },
  {
   "cell_type": "code",
   "execution_count": 8,
   "metadata": {},
   "outputs": [
    {
     "name": "stdout",
     "output_type": "stream",
     "text": [
      "               Successful     Failed \n",
      "    Successful     3177.0    45633.0 \n",
      "        Failed      303.0    26620.0 \n"
     ]
    }
   ],
   "source": [
    "bayes_classifier = GaussianNB()\n",
    "bayes_classifier.fit(X_train, y_train)\n",
    "y_pred_FC = bayes_classifier.predict(X_test)\n",
    "\n",
    "confMat = confusion_matrix(y_test, y_pred_FC)\n",
    "print_cm(confMat, [\"Successful\", \"Failed\"])"
   ]
  },
  {
   "cell_type": "code",
   "execution_count": null,
   "metadata": {},
   "outputs": [],
   "source": []
  }
 ],
 "metadata": {
  "kernelspec": {
   "display_name": "Python 3",
   "language": "python",
   "name": "python3"
  },
  "language_info": {
   "codemirror_mode": {
    "name": "ipython",
    "version": 3
   },
   "file_extension": ".py",
   "mimetype": "text/x-python",
   "name": "python",
   "nbconvert_exporter": "python",
   "pygments_lexer": "ipython3",
   "version": "3.6.3"
  }
 },
 "nbformat": 4,
 "nbformat_minor": 2
}
